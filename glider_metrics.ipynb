{
 "cells": [
  {
   "cell_type": "code",
   "execution_count": null,
   "id": "e53d5d44",
   "metadata": {},
   "outputs": [],
   "source": [
    "import subprocess\n",
    "import sys\n",
    "\n",
    "COLAB = \"google.colab\" in sys.modules\n",
    "\n",
    "\n",
    "def _install(package):\n",
    "    if COLAB:\n",
    "        ans = input(f\"Install { package }? [y/n]:\")\n",
    "        if ans.lower() in [\"y\", \"yes\"]:\n",
    "            subprocess.check_call(\n",
    "                [sys.executable, \"-m\", \"pip\", \"install\", \"--quiet\", package]\n",
    "            )\n",
    "            print(f\"{ package } installed!\")\n",
    "\n",
    "\n",
    "def _colab_install_missing_deps(deps):\n",
    "    import importlib\n",
    "\n",
    "    for dep in deps:\n",
    "        if importlib.util.find_spec(dep) is None:\n",
    "            _install(dep)\n",
    "\n",
    "\n",
    "deps = [\"ioos-metrics\"]\n",
    "_colab_install_missing_deps(deps)"
   ]
  },
  {
   "cell_type": "code",
   "execution_count": null,
   "id": "b1f5b37c",
   "metadata": {},
   "outputs": [],
   "source": [
    "# The date format is YYYY-MM-DDTHH:mm:ss\n",
    "query = {\n",
    "    \"min_time\": \"2025-01-01T00:00:00\",\n",
    "    \"max_time\": \"2025-02-28T23:59:59\",\n",
    "    \"min_lat\": 10,\n",
    "    \"max_lat\": 42,\n",
    "    \"min_lon\": -99,\n",
    "    \"max_lon\": -50,\n",
    "}"
   ]
  },
  {
   "cell_type": "code",
   "execution_count": null,
   "id": "2e5fe0bb",
   "metadata": {},
   "outputs": [],
   "source": [
    "from ioos_metrics.ioos_metrics import _ngdac_gliders as ngdac_gliders\n",
    "\n",
    "\n",
    "import pandas as pd\n",
    "\n",
    "metadata_metrics = ngdac_gliders(**query)\n",
    "metadata_metrics[\"time_coverage_start\"] = pd.to_datetime(\n",
    "    metadata_metrics[\"time_coverage_start\"],\n",
    ")\n",
    "metadata_metrics[\"time_coverage_end\"] = pd.to_datetime(\n",
    "    metadata_metrics[\"time_coverage_end\"],\n",
    ")\n",
    "\n",
    "_save_df = (\n",
    "    metadata_metrics[\n",
    "        [\n",
    "            \"glider\",\n",
    "            \"wmo_id\",\n",
    "            \"sea_name\",\n",
    "            \"time_coverage_start\",\n",
    "            \"time_coverage_end\",\n",
    "            \"days\",\n",
    "            \"num_profiles\",\n",
    "            \"institution\",\n",
    "            \"acknowledgment\",\n",
    "        ]\n",
    "    ]\n",
    "    .reset_index(\n",
    "        names=[\"dataset_id\"],\n",
    "    )\n",
    "    .sort_values(\n",
    "        by=\"dataset_id\",\n",
    "        key=lambda x: x.str.lower(),\n",
    "    )\n",
    "    .rename(\n",
    "        columns={\n",
    "            \"time_coverage_start\": \"start_date\",\n",
    "            \"time_coverage_end\": \"end_date\",\n",
    "            \"sea_name\": \"deployment_area\",\n",
    "        },\n",
    "    )\n",
    ")\n",
    "\n",
    "_save_df[\"start_date\"] = _save_df[\"start_date\"].dt.strftime(\"%m-%d-%Y\")\n",
    "_save_df[\"end_date\"] = _save_df[\"end_date\"].dt.strftime(\"%m-%d-%Y\")\n",
    "_save_df[\"days\"] = [d.days for d in _save_df[\"days\"]]\n",
    "\n",
    "_save_df.to_csv(\n",
    "    path_or_buf=\"glider_metadata_metrics.csv\",\n",
    "    index=False,\n",
    ")"
   ]
  },
  {
   "cell_type": "markdown",
   "id": "2040ff2b",
   "metadata": {},
   "source": [
    "## GeoDataFrame"
   ]
  },
  {
   "cell_type": "code",
   "execution_count": null,
   "id": "adfbcef1",
   "metadata": {},
   "outputs": [],
   "source": [
    "import geopandas\n",
    "\n",
    "\n",
    "gdf = metadata_metrics.copy()\n",
    "\n",
    "gdf = gdf.reset_index(names=\"glider deployment\")\n",
    "gdf = gdf.rename({\"track\": \"geometry\"}, axis=1)\n",
    "gdf = geopandas.GeoDataFrame(gdf)\n",
    "gdf = gdf.set_crs(epsg=4326)"
   ]
  },
  {
   "cell_type": "code",
   "execution_count": null,
   "id": "0ef6ffeb",
   "metadata": {},
   "outputs": [],
   "source": [
    "import folium\n",
    "\n",
    "m = folium.Map()\n",
    "for _, glider in gdf.iterrows():\n",
    "    folium.GeoJson(\n",
    "        data=glider[\"geometry\"],\n",
    "        tooltip=glider[\"glider deployment\"],\n",
    "        popup=f\"{glider['time_coverage_start']} -- {glider['time_coverage_end']}\",\n",
    "    ).add_to(m)\n",
    "\n",
    "\n",
    "folium.Rectangle(\n",
    "    bounds=[\n",
    "        (query[\"min_lat\"], query[\"min_lon\"]),\n",
    "        (query[\"max_lat\"], query[\"max_lon\"]),\n",
    "    ],\n",
    ").add_to(m)\n",
    "m.fit_bounds(m.get_bounds())\n",
    "\n",
    "m"
   ]
  },
  {
   "cell_type": "code",
   "execution_count": null,
   "id": "d54dc103",
   "metadata": {},
   "outputs": [],
   "source": [
    "print(f'Glider days: {metadata_metrics[\"days\"].sum().days}')\n",
    "print(f'Glider deployments: {len(metadata_metrics)}')\n",
    "print(f'Number of profiles days: {metadata_metrics[\"num_profiles\"].sum()}')"
   ]
  }
 ],
 "metadata": {
  "kernelspec": {
   "display_name": "Python 3 (ipykernel)",
   "language": "python",
   "name": "python3"
  },
  "language_info": {
   "codemirror_mode": {
    "name": "ipython",
    "version": 3
   },
   "file_extension": ".py",
   "mimetype": "text/x-python",
   "name": "python",
   "nbconvert_exporter": "python",
   "pygments_lexer": "ipython3",
   "version": "3.13.3"
  }
 },
 "nbformat": 4,
 "nbformat_minor": 5
}
